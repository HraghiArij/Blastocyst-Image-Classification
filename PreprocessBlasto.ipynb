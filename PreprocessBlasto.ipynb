{
  "nbformat": 4,
  "nbformat_minor": 0,
  "metadata": {
    "colab": {
      "provenance": []
    },
    "kernelspec": {
      "name": "python3",
      "display_name": "Python 3"
    },
    "language_info": {
      "name": "python"
    },
    "accelerator": "GPU",
    "gpuClass": "standard"
  },
  "cells": [
    {
      "cell_type": "code",
      "source": [
        "import os\n",
        "import cv2\n",
        "from glob import glob\n",
        "import numpy as np\n",
        "from tqdm import tqdm\n",
        "from sklearn.model_selection import train_test_split\n",
        "from albumentations import *"
      ],
      "metadata": {
        "id": "1UcDwb7spotK"
      },
      "execution_count": null,
      "outputs": []
    },
    {
      "cell_type": "code",
      "source": [
        "import zipfile\n",
        "local_zip = '/content/drive/MyDrive/BlastsOnline.zip'\n",
        "zip_ref = zipfile.ZipFile(local_zip, 'r')\n",
        "zip_ref.extractall('./BlastsOnline')\n",
        "\n",
        "zip_ref.close()"
      ],
      "metadata": {
        "id": "ccNhm0AlXT79"
      },
      "execution_count": null,
      "outputs": []
    },
    {
      "cell_type": "code",
      "source": [
        "drive_path = '/content/BlastsOnline/BlastsOnline'"
      ],
      "metadata": {
        "id": "83OlrS0jzdoV"
      },
      "execution_count": null,
      "outputs": []
    },
    {
      "cell_type": "code",
      "source": [
        "def create_dir(path):\n",
        "    \"\"\"Create a directory\"\"\"\n",
        "    if not os.path.exists(path):\n",
        "        os.mkdir(path)"
      ],
      "metadata": {
        "id": "y5YR2Ot-prf5"
      },
      "execution_count": null,
      "outputs": []
    },
    {
      "cell_type": "code",
      "source": [
        "def load_data(path):\n",
        "    images = sorted(glob(f\"{path}/Images/*.BMP\"))\n",
        "    masks_te = sorted(glob(f\"{path}/GT_TE/*.bmp\"))\n",
        "    masks_icm = sorted(glob(f\"{path}/GT_ICM/*.bmp\"))\n",
        "    masks_zp = sorted(glob(f\"{path}/GT_ZP/*.bmp\"))\n",
        "    print(len(masks_zp), len(masks_icm), len(masks_te), len(images))\n",
        "\n",
        "    # DATA SPLIT\n",
        "    split_size=round(0.1*len(images))\n",
        "    split_size2=round(0.1*len(images))\n",
        "\n",
        "    train_i, test_i, train_te, test_te, train_zp, test_zp ,train_icm, test_icm = train_test_split(images,masks_te,masks_zp,masks_icm, test_size=split_size, random_state=42)\n",
        "    train_i, valid_i, train_te, valid_te, train_zp, valid_zp ,train_icm, valid_icm = train_test_split(train_i,train_te,train_zp,train_icm, test_size=split_size2, random_state=42)\n",
        "\n",
        "    print(\"train, valid, test\")\n",
        "    print(len(train_zp), len(valid_zp),len(test_zp))\n",
        "\n",
        "    return (train_i, test_i, valid_i), (train_zp, test_zp, valid_zp), (train_icm, test_icm, valid_icm), (train_te, test_te, valid_te)"
      ],
      "metadata": {
        "id": "D4Rl3O0GpuGT"
      },
      "execution_count": null,
      "outputs": []
    },
    {
      "cell_type": "code",
      "source": [
        "def read_this(image_file):\n",
        "\n",
        "    image_src = cv2.imread(image_file)\n",
        "    image_src = cv2.cvtColor(image_src, cv2.COLOR_BGR2GRAY)\n",
        "\n",
        "    return image_src"
      ],
      "metadata": {
        "id": "NhDxCnMbpwy-"
      },
      "execution_count": null,
      "outputs": []
    },
    {
      "cell_type": "code",
      "source": [
        "def GT_blastocoel(maskA,maskB,maskC,mergedmasks):\n",
        "    #Find the blastocoel GT through using the ICM, ZP and TE\n",
        "\n",
        "    merge1=cv2.add(maskA,maskB)\n",
        "    part_merged=cv2.add(merge1,maskC)\n",
        "    GT_C=mergedmasks+part_merged\n",
        "    GT_C[GT_C<255]=0\n",
        "\n",
        "    return GT_C"
      ],
      "metadata": {
        "id": "E8Cify9WyTc-"
      },
      "execution_count": null,
      "outputs": []
    },
    {
      "cell_type": "code",
      "source": [
        "def addmasks(maskA, maskB, maskC):\n",
        "    # Full cell mask\n",
        "    merge1 = cv2.add(maskA, maskB)\n",
        "    merged = cv2.add(merge1, maskC)\n",
        "    merged = 255 - merged\n",
        "    th, im_th = cv2.threshold(merged, 220, 255, cv2.THRESH_BINARY_INV);\n",
        "    im_floodfill = im_th.copy()\n",
        "    h, w = im_th.shape[:2]\n",
        "    mask = np.zeros((h + 2, w + 2), np.uint8)\n",
        "    cv2.floodFill(im_floodfill, mask, (0, 0), 255);\n",
        "    im_floodfill_inv = cv2.bitwise_not(im_floodfill)\n",
        "    result = im_th | im_floodfill_inv\n",
        "    merged = result\n",
        "    return merged"
      ],
      "metadata": {
        "id": "06OvE-4Cp3Kq"
      },
      "execution_count": null,
      "outputs": []
    },
    {
      "cell_type": "code",
      "source": [
        "def generate_mask(zp, icm, te):\n",
        "  z=zp.copy()\n",
        "  i=icm.copy()\n",
        "  t=te.copy()\n",
        "  z[z == 255] = 32\n",
        "  i[i == 255] = 64\n",
        "  t[t == 255] = 128\n",
        "  merge1 = cv2.add(z, i)\n",
        "  merged = cv2.add(merge1, t)\n",
        "  merged = 255 - merged\n",
        "  return merged"
      ],
      "metadata": {
        "id": "-FxEbHOUqT2G"
      },
      "execution_count": null,
      "outputs": []
    },
    {
      "cell_type": "code",
      "source": [
        "def resize_enhance(i, zp, icm, te,f,l,b):\n",
        "    W = 256\n",
        "    H = 256\n",
        "\n",
        "    i = cv2.resize(i, (W, H))\n",
        "    zp = cv2.resize(zp, (W, H))\n",
        "    icm = cv2.resize(icm, (W, H))\n",
        "    te = cv2.resize(te, (W, H))\n",
        "    f = cv2.resize(f, (W, H))\n",
        "    b = cv2.resize(b, (W, H))\n",
        "    l = cv2.resize(l, (W, H))\n",
        "    i = i.astype('uint8')\n",
        "\n",
        "    return i, zp, icm, te, f,l,b"
      ],
      "metadata": {
        "id": "c0t-qq-PqCvc"
      },
      "execution_count": null,
      "outputs": []
    },
    {
      "cell_type": "code",
      "source": [
        "import csv\n",
        "from google.colab.patches import cv2_imshow"
      ],
      "metadata": {
        "id": "XAejhsxToG5d"
      },
      "execution_count": null,
      "outputs": []
    },
    {
      "cell_type": "code",
      "source": [
        "def augment_data(images, masks_zp, masks_icm, masks_te, new_path, train)\n",
        "\n",
        "    print(len(images))\n",
        "    for idx, (i, zp, icm, te) in tqdm(enumerate(zip(images, masks_zp, masks_icm, masks_te)), total=len(images)):\n",
        "        name = i.split(\"/\")[-1].split(\".\")[0]\n",
        "        i = read_this(i)\n",
        "        zp = read_this(zp)\n",
        "        icm = read_this(icm)\n",
        "        te = read_this(te)\n",
        "\n",
        "        mergedmask = addmasks(zp, icm, te)\n",
        "        b = GT_blastocoel(te,zp,icm,mergedmask)\n",
        "        label_mask = generate_mask(zp, icm, te)\n",
        "\n",
        "        width, height = i.shape[0], i.shape[1]\n",
        "\n",
        "        if train:\n",
        "\n",
        "            aug = Compose([\n",
        "\n",
        "                HorizontalFlip(p=1)\n",
        "\n",
        "            ], additional_targets={'mask_zp': 'mask', 'mask_icm': 'mask', 'mask_te': 'mask','full':'mask', 'label':'mask', 'mask_blas':'mask'})\n",
        "\n",
        "            augmented = aug(image=i, mask_zp=zp, mask_icm=icm, mask_te=te, full=mergedmask, label= label_mask, mask_blas= b)\n",
        "            i1 = augmented['image']\n",
        "            zp1 = augmented['mask_zp']\n",
        "            icm1 = augmented['mask_icm']\n",
        "            te1 = augmented['mask_te']\n",
        "            f1 = augmented['full']\n",
        "            l1 = augmented['label']\n",
        "            b1 = augmented['mask_blas']\n",
        "\n",
        "            aug = Compose([\n",
        "\n",
        "                VerticalFlip(p=1)\n",
        "\n",
        "            ], additional_targets={'mask_zp': 'mask', 'mask_icm': 'mask', 'mask_te': 'mask','full':'mask', 'label':'mask', 'mask_blas':'mask'})\n",
        "\n",
        "            augmented = aug(image=i, mask_zp=zp, mask_icm=icm, mask_te=te, full=mergedmask, label= label_mask, mask_blas= b)\n",
        "            i2 = augmented['image']\n",
        "            zp2 = augmented['mask_zp']\n",
        "            icm2 = augmented['mask_icm']\n",
        "            te2 = augmented['mask_te']\n",
        "            f2 = augmented['full']\n",
        "            l2 = augmented['label']\n",
        "            b2 = augmented['mask_blas']\n",
        "\n",
        "            aug = Compose([\n",
        "\n",
        "                Transpose(1)\n",
        "\n",
        "            ], additional_targets={'mask_zp': 'mask', 'mask_icm': 'mask', 'mask_te': 'mask','full':'mask', 'label':'mask', 'mask_blas':'mask'})\n",
        "\n",
        "            augmented = aug(image=i, mask_zp=zp, mask_icm=icm, mask_te=te, full=mergedmask, label= label_mask, mask_blas= b)\n",
        "            i3 = augmented['image']\n",
        "            zp3 = augmented['mask_zp']\n",
        "            icm3 = augmented['mask_icm']\n",
        "            te3 = augmented['mask_te']\n",
        "            f3 = augmented['full']\n",
        "            l3 = augmented['label']\n",
        "            b3 = augmented['mask_blas']\n",
        "            aug = Compose([\n",
        "\n",
        "                HorizontalFlip(p=1)\n",
        "\n",
        "            ], additional_targets={'mask_zp': 'mask', 'mask_icm': 'mask', 'mask_te': 'mask','full':'mask', 'label':'mask', 'mask_blas':'mask'})\n",
        "\n",
        "\n",
        "            augmented = aug(image=i3, mask_zp=zp3, mask_icm=icm3, mask_te=te3, full=f3, label= l3, mask_blas = b3)\n",
        "            i4 = augmented['image']\n",
        "            zp4 = augmented['mask_zp']\n",
        "            icm4 = augmented['mask_icm']\n",
        "            te4 = augmented['mask_te']\n",
        "            f4 = augmented['full']\n",
        "            l4 = augmented['label']\n",
        "            b4 = augmented['mask_blas']\n",
        "\n",
        "\n",
        "            I = [i, i1, i2, i3,i4]\n",
        "            ZP = [zp, zp1, zp2, zp3,zp4]\n",
        "            ICM = [icm, icm1, icm2, icm3,icm4]\n",
        "            TE = [te, te1, te2, te3,te4]\n",
        "            F = [mergedmask, f1, f2, f3, f4]\n",
        "            L = [label_mask, l1, l2, l3, l4]\n",
        "            B = [b, b1, b2, b3, b4]\n",
        "\n",
        "        else:\n",
        "            I = [i]\n",
        "            ZP = [zp]\n",
        "            ICM = [icm]\n",
        "            TE = [te]\n",
        "            F = [mergedmask]\n",
        "            L= [label_mask]\n",
        "            B = [b]\n",
        "\n",
        "        index = 0\n",
        "        real_size = []\n",
        "        for i_aug, zp_aug, icm_aug, te_aug, f_aug,l_aug, b_aug in zip(I, ZP, ICM, TE,F,L,B):\n",
        "\n",
        "            i_w, i_h = i_aug.shape[0], i_aug.shape[1]\n",
        "\n",
        "            i_res, zp_res, icm_res, te_res, f_res,l_res, b_res = resize_enhance(i_aug, zp_aug, icm_aug, te_aug,f_aug,l_aug, b_aug)\n",
        "\n",
        "\n",
        "            if len(I) == 1:\n",
        "                i_name = f\"{name}.bmp\"\n",
        "                zp_name = f\"{name} ZP_Mask.bmp\"\n",
        "                icm_name = f\"{name} ICM_Mask.bmp\"\n",
        "                te_name = f\"{name} TE_Mask.bmp\"\n",
        "                f_name = f\"{name} full.bmp\"\n",
        "                roi_name = f\"{name} ROI.bmp\"\n",
        "                l_name = f\"{name} label.bmp\"\n",
        "                b_name = f\"{name} blastocoel.bmp\"\n",
        "            else:\n",
        "                i_name = f\"{name}_{index}.bmp\"\n",
        "                zp_name = f\"{name} ZP_Mask_{index}.bmp\"\n",
        "                icm_name = f\"{name} ICM_Mask_{index}.bmp\"\n",
        "                te_name = f\"{name} TE_Mask_{index}.bmp\"\n",
        "                f_name = f\"{name} full_{index}.bmp\"\n",
        "                roi_name = f\"{name} ROI_{index}.bmp\"\n",
        "                l_name = f\"{name} label_{index}.bmp\"\n",
        "                b_name = f\"{name} blastocoel_{index}.bmp\"\n",
        "\n",
        "            i_path = os.path.join(new_path, \"images/\", i_name)\n",
        "            zp_path = os.path.join(new_path, \"GT_ZP/\", zp_name)\n",
        "            icm_path = os.path.join(new_path, \"GT_ICM/\", icm_name)\n",
        "            te_path = os.path.join(new_path, \"GT_TE/\", te_name)\n",
        "            f_path = os.path.join(new_path, \"GT_full/\", f_name)\n",
        "            roi_path = os.path.join(new_path, \"ROI/\", roi_name)\n",
        "            l_path = os.path.join(new_path, \"label/\", l_name)\n",
        "            b_path = os.path.join(new_path, \"GT_blastocoel/\", b_name)\n",
        "\n",
        "            real_size.append([i_name, i_w, i_h])\n",
        "\n",
        "            with open('/content/BlastsOnline/BlastsOnline/new_data_3z_tvt70/real_size.csv', 'a+', newline='\\n') as file:\n",
        "              writer = csv.writer(file)\n",
        "              writer.writerows(real_size)\n",
        "\n",
        "\n",
        "            roi = f_res * i_res\n",
        "            cv2.imwrite(i_path, i_res)\n",
        "            cv2.imwrite(roi_path, roi)\n",
        "            cv2.imwrite(zp_path, zp_res)\n",
        "            cv2.imwrite(icm_path, icm_res)\n",
        "            cv2.imwrite(te_path, te_res)\n",
        "            cv2.imwrite(f_path, f_res)\n",
        "            cv2.imwrite(l_path, l_res)\n",
        "            cv2.imwrite(b_path, b_res)\n",
        "\n",
        "            index += 1\n"
      ],
      "metadata": {
        "id": "AL_uzaWsp34G"
      },
      "execution_count": null,
      "outputs": []
    },
    {
      "cell_type": "code",
      "source": [
        "#Load the dataset\n",
        "(train_i, test_i, valid_i), (train_zp, test_zp, valid_zp), (train_icm, test_icm, valid_icm), (train_te, test_te, valid_te)= load_data(drive_path)\n",
        "\n",
        "create_dir(drive_path+\"/new_data_3z_tvt70/\")\n",
        "\n",
        "test_path = drive_path+\"/new_data_3z_tvt70/test/\"\n",
        "valid_path= drive_path+\"/new_data_3z_tvt70/valid/\"\n",
        "train_path= drive_path+\"/new_data_3z_tvt70/train/\"\n",
        "\n",
        "create_dir(train_path)\n",
        "create_dir(test_path)\n",
        "create_dir(valid_path)\n",
        "\n",
        "create_dir(test_path+\"images/\")\n",
        "create_dir(train_path+\"images/\")\n",
        "create_dir(valid_path+\"images/\")\n",
        "\n",
        "create_dir(test_path+\"GT_ZP/\")\n",
        "create_dir(train_path+\"GT_ZP/\")\n",
        "create_dir(valid_path+\"GT_ZP/\")\n",
        "\n",
        "create_dir(test_path+\"GT_ICM/\")\n",
        "create_dir(train_path+\"GT_ICM/\")\n",
        "create_dir(valid_path+\"GT_ICM/\")\n",
        "\n",
        "create_dir(test_path+\"GT_TE/\")\n",
        "create_dir(train_path+\"GT_TE/\")\n",
        "create_dir(valid_path+\"GT_TE/\")\n",
        "\n",
        "create_dir(test_path+\"GT_full/\")\n",
        "create_dir(train_path+\"GT_full/\")\n",
        "create_dir(valid_path+\"GT_full/\")\n",
        "\n",
        "create_dir(train_path+\"label/\")\n",
        "create_dir(test_path+\"label/\")\n",
        "create_dir(valid_path+\"label/\")\n",
        "\n",
        "create_dir(test_path+\"ROI/\")\n",
        "create_dir(train_path+\"ROI/\")\n",
        "create_dir(valid_path+\"ROI/\")\n",
        "\n",
        "create_dir(test_path+\"GT_blastocoel/\")\n",
        "create_dir(train_path+\"GT_blastocoel/\")\n",
        "create_dir(valid_path+\"GT_blastocoel/\")\n",
        "\n",
        "augment_data(train_i, train_zp, train_icm, train_te, train_path, train=True)\n",
        "augment_data(test_i, test_zp, test_icm, test_te, test_path, train=False)\n",
        "augment_data(valid_i, valid_zp, valid_icm, valid_te, valid_path, train=False)"
      ],
      "metadata": {
        "id": "_uv63JIZqJPd",
        "colab": {
          "base_uri": "https://localhost:8080/"
        },
        "outputId": "3f6cdca0-5ef0-4ffd-8501-0d1ff13ac523"
      },
      "execution_count": null,
      "outputs": [
        {
          "output_type": "stream",
          "name": "stdout",
          "text": [
            "249 249 249 249\n",
            "train, valid, test\n",
            "199 25 25\n",
            "199\n"
          ]
        },
        {
          "output_type": "stream",
          "name": "stderr",
          "text": [
            "100%|██████████| 199/199 [00:05<00:00, 33.18it/s]\n"
          ]
        },
        {
          "output_type": "stream",
          "name": "stdout",
          "text": [
            "25\n"
          ]
        },
        {
          "output_type": "stream",
          "name": "stderr",
          "text": [
            "100%|██████████| 25/25 [00:00<00:00, 54.56it/s]\n"
          ]
        },
        {
          "output_type": "stream",
          "name": "stdout",
          "text": [
            "25\n"
          ]
        },
        {
          "output_type": "stream",
          "name": "stderr",
          "text": [
            "100%|██████████| 25/25 [00:00<00:00, 49.73it/s]\n"
          ]
        }
      ]
    },
    {
      "cell_type": "code",
      "source": [],
      "metadata": {
        "id": "uY1IgfkCUSoM"
      },
      "execution_count": null,
      "outputs": []
    }
  ]
}