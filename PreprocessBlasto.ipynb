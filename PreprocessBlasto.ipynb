{
  "nbformat": 4,
  "nbformat_minor": 0,
  "metadata": {
    "colab": {
      "provenance": []
    },
    "kernelspec": {
      "name": "python3",
      "display_name": "Python 3"
    },
    "language_info": {
      "name": "python"
    },
    "accelerator": "GPU",
    "gpuClass": "standard"
  },
  "cells": [
    {
      "cell_type": "code",
      "source": [
        "import os\n",
        "import cv2\n",
        "from glob import glob\n",
        "import numpy as np\n",
        "from tqdm import tqdm\n",
        "from sklearn.model_selection import train_test_split\n",
        "from albumentations import *"
      ],
      "metadata": {
        "id": "1UcDwb7spotK"
      },
      "execution_count": 39,
      "outputs": []
    },
    {
      "cell_type": "code",
      "source": [
        "from google.colab import drive\n",
        "drive.mount('/content/drive')"
      ],
      "metadata": {
        "colab": {
          "base_uri": "https://localhost:8080/"
        },
        "id": "QNRNRUNK8R-6",
        "outputId": "e876a31a-c37b-4b85-8e67-ebd724969252"
      },
      "execution_count": 40,
      "outputs": [
        {
          "output_type": "stream",
          "name": "stdout",
          "text": [
            "Drive already mounted at /content/drive; to attempt to forcibly remount, call drive.mount(\"/content/drive\", force_remount=True).\n"
          ]
        }
      ]
    },
    {
      "cell_type": "code",
      "source": [
        "import zipfile\n",
        "local_zip = '/content/drive/MyDrive/BlastsOnline.zip'\n",
        "zip_ref = zipfile.ZipFile(local_zip, 'r')\n",
        "zip_ref.extractall('./BlastsOnline')\n",
        "\n",
        "zip_ref.close()"
      ],
      "metadata": {
        "id": "ccNhm0AlXT79"
      },
      "execution_count": 3,
      "outputs": []
    },
    {
      "cell_type": "code",
      "source": [
        "drive_path = '/content/BlastsOnline/BlastsOnline'"
      ],
      "metadata": {
        "id": "83OlrS0jzdoV"
      },
      "execution_count": 114,
      "outputs": []
    },
    {
      "cell_type": "code",
      "source": [
        "def create_dir(path):\n",
        "    \"\"\"Create a directory\"\"\"\n",
        "    if not os.path.exists(path):\n",
        "        os.mkdir(path)"
      ],
      "metadata": {
        "id": "y5YR2Ot-prf5"
      },
      "execution_count": 115,
      "outputs": []
    },
    {
      "cell_type": "code",
      "source": [
        "def load_data(path):\n",
        "    images = sorted(glob(f\"{path}/Images/*.BMP\"))\n",
        "    masks_te = sorted(glob(f\"{path}/GT_TE/*.bmp\"))\n",
        "    masks_icm = sorted(glob(f\"{path}/GT_ICM/*.bmp\"))\n",
        "    masks_zp = sorted(glob(f\"{path}/GT_ZP/*.bmp\"))\n",
        "    return images,masks_te,masks_icm,masks_zp"
      ],
      "metadata": {
        "id": "ALuTrZVctT64"
      },
      "execution_count": 116,
      "outputs": []
    },
    {
      "cell_type": "code",
      "source": [
        "def load_data_split(path):\n",
        "    images = sorted(glob(f\"{path}/Images/*.BMP\"))\n",
        "    masks_te = sorted(glob(f\"{path}/GT_TE/*.bmp\"))\n",
        "    masks_icm = sorted(glob(f\"{path}/GT_ICM/*.bmp\"))\n",
        "    masks_zp = sorted(glob(f\"{path}/GT_ZP/*.bmp\"))\n",
        "    masks_Blastocoel = sorted(glob(f\"{path}/GT_Blastocoel/*.bmp\"))\n",
        "    masks_ROI = sorted(glob(f\"{path}/GT_ROI/*.bmp\"))\n",
        "    masks_label = sorted(glob(f\"{path}/GT_Label/*.bmp\"))\n",
        "    Full_mask=sorted(glob(f\"{path}/GT_MergedMask/*.bmp\"))\n",
        "    print(len(masks_zp), len(masks_icm), len(masks_te), len(images))\n",
        "    split_size=round(0.1*len(images))\n",
        "    split_size2=round(0.1*len(images))\n",
        "\n",
        "    train_i, test_i, train_te, test_te, train_zp, test_zp,train_b,test_b,train_ROI,test_ROI,train_f,test_f,train_l,test_l ,train_icm, test_icm, = train_test_split(images,masks_te,masks_zp,masks_Blastocoel,masks_ROI,Full_mask,masks_label,masks_icm, test_size=split_size, random_state=42)\n",
        "    train_i, valid_i, train_te, valid_te, train_zp, valid_zp ,train_icm, valid_icm,train_b,valid_b,train_ROI,valid_ROI,train_f,valid_f,train_l,valid_l = train_test_split(train_i,train_te,train_zp,train_icm,train_b,train_ROI,train_f,train_l, test_size=split_size2, random_state=42)\n",
        "\n",
        "    print(\"train, valid, test\")\n",
        "    print(len(train_zp), len(valid_zp),len(test_zp))\n",
        "\n",
        "    return (train_i, test_i, valid_i), (train_zp, test_zp, valid_zp), (train_icm, test_icm, valid_icm), (train_te, test_te, valid_te),(train_ROI, test_ROI, valid_ROI),(train_f, test_f, valid_f),(train_l, test_l, valid_l),(train_b,test_b,valid_b)"
      ],
      "metadata": {
        "id": "D4Rl3O0GpuGT"
      },
      "execution_count": 117,
      "outputs": []
    },
    {
      "cell_type": "code",
      "source": [
        "def read_this(image_file):\n",
        "\n",
        "    image_src = cv2.imread(image_file)\n",
        "    image_src = cv2.cvtColor(image_src, cv2.COLOR_BGR2GRAY)\n",
        "\n",
        "    return image_src"
      ],
      "metadata": {
        "id": "NhDxCnMbpwy-"
      },
      "execution_count": 118,
      "outputs": []
    },
    {
      "cell_type": "code",
      "source": [
        "def GT_blastocoel(maskA,maskB,maskC,mergedmasks):\n",
        "    #Find the blastocoel GT through using the ICM, ZP and TE\n",
        "\n",
        "    merge1=cv2.add(maskA,maskB)\n",
        "    part_merged=cv2.add(merge1,maskC)\n",
        "    GT_C=mergedmasks+part_merged\n",
        "    GT_C[GT_C<255]=0\n",
        "\n",
        "    return GT_C"
      ],
      "metadata": {
        "id": "E8Cify9WyTc-"
      },
      "execution_count": 119,
      "outputs": []
    },
    {
      "cell_type": "code",
      "source": [
        "def addmasks(maskA, maskB, maskC):\n",
        "    # FullMask\n",
        "    merge1 = cv2.add(maskA, maskB)\n",
        "    merged = cv2.add(merge1, maskC)\n",
        "    merged = 255 - merged\n",
        "    th, im_th = cv2.threshold(merged, 220, 255, cv2.THRESH_BINARY_INV);\n",
        "    im_floodfill = im_th.copy()\n",
        "    h, w = im_th.shape[:2]\n",
        "    mask = np.zeros((h + 2, w + 2), np.uint8)\n",
        "    cv2.floodFill(im_floodfill, mask, (0, 0), 255);\n",
        "    im_floodfill_inv = cv2.bitwise_not(im_floodfill)\n",
        "    result = im_th | im_floodfill_inv\n",
        "    merged = result\n",
        "    return merged"
      ],
      "metadata": {
        "id": "06OvE-4Cp3Kq"
      },
      "execution_count": 120,
      "outputs": []
    },
    {
      "cell_type": "code",
      "source": [
        "def generate_mask(zp, icm, te):\n",
        "  z=zp.copy()\n",
        "  i=icm.copy()\n",
        "  t=te.copy()\n",
        "  z[z == 255] = 32\n",
        "  i[i == 255] = 64\n",
        "  t[t == 255] = 128\n",
        "  merge1 = cv2.add(z, i)\n",
        "  merged = cv2.add(merge1, t)\n",
        "  merged = 255 - merged\n",
        "  return merged"
      ],
      "metadata": {
        "id": "-FxEbHOUqT2G"
      },
      "execution_count": 121,
      "outputs": []
    },
    {
      "cell_type": "code",
      "source": [
        "import csv\n",
        "from google.colab.patches import cv2_imshow"
      ],
      "metadata": {
        "id": "XAejhsxToG5d"
      },
      "execution_count": 123,
      "outputs": []
    },
    {
      "cell_type": "code",
      "source": [
        "import os\n",
        "import cv2\n",
        "from tqdm import tqdm\n",
        "from albumentations import *\n",
        "\n",
        "def augment_data(images, new_path, train):\n",
        "    \"\"\"Perform data augmentation and save augmented images\"\"\"\n",
        "    print(\"here!\")\n",
        "    for image in images:\n",
        "        # Load the image\n",
        "        image_name = image.split(\"/\")[-1].split(\".\")[0]\n",
        "\n",
        "        image = read_this(image)\n",
        "\n",
        "\n",
        "        # Initialize a list to store augmented images\n",
        "        augmented_images = [image]\n",
        "\n",
        "        if train:\n",
        "            # Define augmentation transforms for training data\n",
        "            aug = Compose([\n",
        "                Transpose(1)\n",
        "\n",
        "            ])\n",
        "            augmented = aug(image=image)\n",
        "            augmented_images.append(augmented['image'])\n",
        "            aug1=Compose([\n",
        "\n",
        "                HorizontalFlip(p=1),\n",
        "\n",
        "            ])\n",
        "            augmented1 = aug1(image=image)\n",
        "            augmented_images.append(augmented1['image'])\n",
        "            aug2=Compose([\n",
        "\n",
        "                VerticalFlip(1),\n",
        "\n",
        "            ])\n",
        "            augmented2 = aug(image=image)\n",
        "            augmented_images.append(augmented2['image'])\n",
        "            aug3=Compose([\n",
        "\n",
        "                HorizontalFlip(p=1)\n",
        "            ])\n",
        "            augmented3 = aug(image=image)\n",
        "            augmented_images.append(augmented3['image'])\n",
        "\n",
        "        # Save the augmented images\n",
        "        for index, augmented_image in enumerate(augmented_images):\n",
        "            if train:\n",
        "                new_image_name = f\"{image_name}_aug{index}.bmp\"\n",
        "            else:\n",
        "                new_image_name = f\"{image_name}.bmp\"\n",
        "            new_image_path = os.path.join(new_path, new_image_name)\n",
        "            cv2.imwrite(new_image_path, augmented_image)\n",
        "\n",
        "    print(\"Done!\")\n"
      ],
      "metadata": {
        "id": "4jgAyPRIyKwV"
      },
      "execution_count": 125,
      "outputs": []
    },
    {
      "cell_type": "code",
      "source": [
        "def create_dir_for_result(path):\n",
        "   create_dir(path+\"images/\")\n",
        "   create_dir(path+\"GT_ZP/\")\n",
        "   create_dir(path+\"GT_ICM/\")\n",
        "   create_dir(path+\"GT_full/\")\n",
        "   create_dir(path+\"label/\")\n",
        "   create_dir(path+\"ROI/\")\n",
        "   create_dir(path+\"GT_blastocoel/\")"
      ],
      "metadata": {
        "id": "q9O0D0X2t1lm"
      },
      "execution_count": 126,
      "outputs": []
    },
    {
      "cell_type": "code",
      "source": [
        "def  read(i,zp,icm,te):\n",
        "      i = read_this(i)\n",
        "      zp = read_this(zp)\n",
        "      icm = read_this(icm)\n",
        "      te = read_this(te)\n",
        "\n",
        "      mergedmask = addmasks(zp, icm, te)\n",
        "      blastocoel = GT_blastocoel(te,zp,icm,mergedmask)\n",
        "      label_mask = generate_mask(zp, icm, te)\n",
        "      return mergedmask , blastocoel, label_mask\n"
      ],
      "metadata": {
        "id": "QcqBSSzR3MoB"
      },
      "execution_count": 127,
      "outputs": []
    },
    {
      "cell_type": "code",
      "source": [
        "#Load the dataset\n",
        "(train_i, test_i, valid_i), (train_zp, test_zp, valid_zp), (train_icm, test_icm, valid_icm), (train_te, test_te, valid_te),(train_ROI, test_ROI, valid_ROI),(train_f, test_f, valid_f),(train_l, test_l, valid_l),(train_b,test_b,valid_b)= load_data_split(drive_path)\n",
        "\n",
        "create_dir(drive_path+\"/new_result/\")\n",
        "\n",
        "test_path = drive_path+\"/new_result/test/\"\n",
        "valid_path= drive_path+\"/new_result/valid/\"\n",
        "train_path= drive_path+\"/new_result/train/\"\n",
        "\n",
        "create_dir(train_path)\n",
        "create_dir(test_path)\n",
        "create_dir(valid_path)\n",
        "create_dir_for_result(train_path)\n",
        "create_dir_for_result(test_path)\n",
        "create_dir_for_result(valid_path)\n",
        "\n",
        "\n",
        "\n"
      ],
      "metadata": {
        "id": "_uv63JIZqJPd",
        "colab": {
          "base_uri": "https://localhost:8080/"
        },
        "outputId": "c4c573e7-c7c0-4735-bfbc-7263743fcc96"
      },
      "execution_count": 128,
      "outputs": [
        {
          "output_type": "stream",
          "name": "stdout",
          "text": [
            "249 249 249 249\n",
            "train, valid, test\n",
            "199 25 25\n"
          ]
        }
      ]
    },
    {
      "cell_type": "code",
      "source": [
        "label=\"/content/BlastsOnline/BlastsOnline/GT_Label\"\n",
        "MM=\"/content/BlastsOnline/BlastsOnline/GT_MergedMask\"\n",
        "b=\"/content/BlastsOnline/BlastsOnline/GT_Blastocoel\"\n",
        "R=\"/content/BlastsOnline/BlastsOnline/GT_ROI\"\n",
        "images,masks_te,masks_icm,masks_zp=load_data(drive_path)\n",
        "for idx, (i, zp, icm, te) in tqdm(enumerate(zip(images,masks_te,masks_icm,masks_zp)), total=len(images)):\n",
        "    mergedmask,blastocoel,label_mask=read(i, zp, icm, te)\n",
        "    image_name = i.split(\"/\")[-1].split(\".\")[0]\n",
        "    i=read_this(i)\n",
        "    ROI=i*mergedmask\n",
        "    ROI_name=f\"{image_name}_ROI_{idx}.bmp\"\n",
        "    label_name = f\"{image_name}_label_{idx}.bmp\"\n",
        "    MegedMask_name = f\"{image_name}_MergedMask_{idx}.bmp\"\n",
        "    b_name = f\"{image_name}_blastocoel_{idx}.bmp\"\n",
        "    label_path = os.path.join(label, label_name)\n",
        "    cv2.imwrite(label_path, label_mask)\n",
        "    ROI_path = os.path.join(R, ROI_name)\n",
        "    cv2.imwrite(ROI_path, ROI)\n",
        "    MM_path = os.path.join(MM, MegedMask_name)\n",
        "    cv2.imwrite(MM_path, label_mask)\n",
        "    b_path = os.path.join(b, b_name)\n",
        "    cv2.imwrite(b_path,blastocoel )\n",
        ""
      ],
      "metadata": {
        "colab": {
          "base_uri": "https://localhost:8080/"
        },
        "id": "gFh07daWpPOd",
        "outputId": "6f340b14-93ec-47cb-8d26-110a5abb56dd"
      },
      "execution_count": 129,
      "outputs": [
        {
          "output_type": "stream",
          "name": "stderr",
          "text": [
            "100%|██████████| 249/249 [00:01<00:00, 202.50it/s]\n"
          ]
        }
      ]
    },
    {
      "cell_type": "code",
      "source": [
        "augment_data(valid_ROI,os.path.join(valid_path,\"ROI/\"),train=True)\n",
        "augment_data(valid_l,os.path.join(valid_path,\"label/\"),train=True)\n",
        "augment_data(valid_b,os.path.join(valid_path,\"GT_blastocoel/\"),train=True)\n",
        "augment_data(valid_f,os.path.join(valid_path,\"GT_full/\"),train=True)\n",
        "augment_data(valid_zp,os.path.join(valid_path,\"GT_ZP/\"), train=True)\n",
        "augment_data(valid_icm,os.path.join(test_path,\"GT_ICM/\"), train=True)\n",
        "augment_data(valid_te,os.path.join(valid_path,\"GT_TE/\"), train=True)\n"
      ],
      "metadata": {
        "colab": {
          "base_uri": "https://localhost:8080/"
        },
        "id": "LIF-s-22jiGV",
        "outputId": "55a1bba3-94cb-4db2-9a2d-8cfc5d469744"
      },
      "execution_count": 130,
      "outputs": [
        {
          "output_type": "stream",
          "name": "stdout",
          "text": [
            "here!\n",
            "Done!\n",
            "here!\n",
            "Done!\n",
            "here!\n",
            "Done!\n",
            "here!\n",
            "Done!\n",
            "here!\n",
            "Done!\n",
            "here!\n",
            "Done!\n",
            "here!\n",
            "Done!\n"
          ]
        }
      ]
    },
    {
      "cell_type": "code",
      "source": [
        "augment_data(test_ROI,os.path.join(test_path,\"ROI/\"),train=True)\n",
        "augment_data(test_l,os.path.join(test_path,\"label/\"),train=True)\n",
        "augment_data(test_b,os.path.join(test_path,\"GT_blastocoel/\"),train=True)\n",
        "augment_data(test_f,os.path.join(test_path,\"GT_full/\"),train=True)\n",
        "augment_data(test_zp,os.path.join(test_path,\"GT_ZP/\"), train=True)\n",
        "augment_data(test_icm,os.path.join(test_path,\"GT_ICM/\"), train=True)\n",
        "augment_data(test_te,os.path.join(test_path,\"GT_TE/\"), train=True)"
      ],
      "metadata": {
        "id": "uY1IgfkCUSoM",
        "colab": {
          "base_uri": "https://localhost:8080/"
        },
        "outputId": "c74ffd6f-5ede-443c-e32e-4266ad6a0ab9"
      },
      "execution_count": 131,
      "outputs": [
        {
          "output_type": "stream",
          "name": "stdout",
          "text": [
            "here!\n",
            "Done!\n",
            "here!\n",
            "Done!\n",
            "here!\n",
            "Done!\n",
            "here!\n",
            "Done!\n",
            "here!\n",
            "Done!\n",
            "here!\n",
            "Done!\n",
            "here!\n",
            "Done!\n"
          ]
        }
      ]
    },
    {
      "cell_type": "code",
      "source": [
        "augment_data(train_ROI,os.path.join(train_path,\"ROI/\"),train=True)\n",
        "augment_data(train_l,os.path.join(train_path,\"label/\"),train=True)\n",
        "augment_data(train_b,os.path.join(train_path,\"GT_blastocoel/\"),train=True)\n",
        "augment_data(train_f,os.path.join(train_path,\"GT_full/\"),train=True)\n",
        "augment_data(train_zp,os.path.join(train_path,\"GT_ZP/\"), train=True)\n",
        "augment_data(train_icm,os.path.join(train_path,\"GT_ICM/\"), train=True)\n",
        "augment_data(train_te,os.path.join(train_path,\"GT_TE/\"), train=True)\n"
      ],
      "metadata": {
        "colab": {
          "base_uri": "https://localhost:8080/"
        },
        "id": "-BPobtp4jlRj",
        "outputId": "bb6c46bd-7545-409c-8fc0-5bb38c5a468b"
      },
      "execution_count": 132,
      "outputs": [
        {
          "output_type": "stream",
          "name": "stdout",
          "text": [
            "here!\n",
            "Done!\n",
            "here!\n",
            "Done!\n",
            "here!\n",
            "Done!\n",
            "here!\n",
            "Done!\n",
            "here!\n",
            "Done!\n",
            "here!\n",
            "Done!\n",
            "here!\n",
            "Done!\n"
          ]
        }
      ]
    },
    {
      "cell_type": "code",
      "source": [],
      "metadata": {
        "id": "kihKR4434JGk"
      },
      "execution_count": null,
      "outputs": []
    }
  ]
}