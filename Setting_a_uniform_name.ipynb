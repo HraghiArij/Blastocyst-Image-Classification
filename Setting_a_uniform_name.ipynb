{
  "cells": [
    {
      "cell_type": "markdown",
      "id": "461afb86",
      "metadata": {
        "id": "461afb86"
      },
      "source": [
        "# CLEAN THE DATASET\n"
      ]
    },
    {
      "cell_type": "code",
      "source": [
        "from google.colab import drive\n",
        "drive.mount('/content/drive')"
      ],
      "metadata": {
        "id": "m6XgIBI44MoS"
      },
      "id": "m6XgIBI44MoS",
      "execution_count": null,
      "outputs": []
    },
    {
      "cell_type": "code",
      "execution_count": null,
      "id": "1b2f3506",
      "metadata": {
        "id": "1b2f3506"
      },
      "outputs": [],
      "source": [
        "import os\n",
        "import shutil\n",
        "\n",
        "images_directory=r'/content/drive/MyDrive/DatasetAzizaOthmana/Images'\n",
        "csv_directory=r'/content/drive/MyDrive/DatasetAzizaOthmana/Dataset/Summary.csv'"
      ]
    },
    {
      "cell_type": "code",
      "source": [
        "Updated_csv_directory=r'/content/drive/MyDrive/Updated_datasetAzizaOthmana/Dataset/Summary.csv'\n",
        "Updated_images_directory=r'/content/drive/MyDrive/Updated_datasetAzizaOthmana/Images'"
      ],
      "metadata": {
        "id": "lEOG8k1P3Hct"
      },
      "id": "lEOG8k1P3Hct",
      "execution_count": null,
      "outputs": []
    },
    {
      "cell_type": "code",
      "source": [
        "import shutil\n",
        "shutil.copy(csv_directory, Updated_csv_directory)\n",
        "\n",
        "print(f\"CSV file '{csv_directory}' copied to '{Updated_csv_directory}'\")"
      ],
      "metadata": {
        "id": "HL8HlvGv-YL9"
      },
      "id": "HL8HlvGv-YL9",
      "execution_count": null,
      "outputs": []
    },
    {
      "cell_type": "code",
      "source": [
        "for filename in os.listdir(images_directory):\n",
        "    if filename.endswith('.jpg'):\n",
        "        source_path = os.path.join(images_directory, filename)\n",
        "        destination_path = os.path.join(Updated_images_directory, filename)\n",
        "        shutil.copy(source_path, destination_path)\n"
      ],
      "metadata": {
        "id": "Ftwt2RV7dfUA"
      },
      "id": "Ftwt2RV7dfUA",
      "execution_count": null,
      "outputs": []
    },
    {
      "cell_type": "code",
      "source": [
        "print(len(os.listdir(images_directory)))\n",
        "print(len(os.listdir(Updated_images_directory)))"
      ],
      "metadata": {
        "id": "TaAcq7kl9V_9"
      },
      "id": "TaAcq7kl9V_9",
      "execution_count": null,
      "outputs": []
    },
    {
      "cell_type": "code",
      "source": [
        "import pandas as pd\n",
        "csv= pd.read_csv(Updated_csv_directory, header=None)\n"
      ],
      "metadata": {
        "id": "j6vl3XWVyq9d"
      },
      "id": "j6vl3XWVyq9d",
      "execution_count": null,
      "outputs": []
    },
    {
      "cell_type": "code",
      "source": [
        "csv.rename(columns={0:'image_name',1:'EXP',2:'ICM',3:'TE'},inplace=True)\n"
      ],
      "metadata": {
        "id": "h2DWApqIz9OQ"
      },
      "id": "h2DWApqIz9OQ",
      "execution_count": null,
      "outputs": []
    },
    {
      "cell_type": "code",
      "source": [
        "csv"
      ],
      "metadata": {
        "id": "QvdkQFJP0Fls"
      },
      "id": "QvdkQFJP0Fls",
      "execution_count": null,
      "outputs": []
    },
    {
      "cell_type": "code",
      "execution_count": null,
      "id": "ce5bf8fb",
      "metadata": {
        "id": "ce5bf8fb"
      },
      "outputs": [],
      "source": [
        "import os\n",
        "import shutil\n",
        "import pandas as pd\n",
        "\n",
        "i = 0  # Initialize a counter\n",
        "\n",
        "for filename in os.listdir(Updated_images_directory):\n",
        "    if filename.endswith('.jpg'):\n",
        "        destination_path = os.path.join(Updated_images_directory, filename)\n",
        "        # Replace underscores with hyphens in the filename and delete spaces\n",
        "        new_filename = filename.replace(' ', '')\n",
        "        new_filename = new_filename.replace('_', '-')\n",
        "        # Split the filename by hyphens\n",
        "        parts = new_filename.split('-')\n",
        "        print(parts)\n",
        "        if not parts[4].startswith('P'):\n",
        "            parts.pop(4)\n",
        "        # Create the new filename\n",
        "        new_filename = '-'.join(parts)\n",
        "        # Construct the full paths for source and destination\n",
        "        source_path = os.path.join(Updated_images_directory, filename)\n",
        "        destination_path = os.path.join(Updated_images_directory, new_filename)\n",
        "        # Rename the file\n",
        "        os.rename(source_path, destination_path)\n",
        "        # Update references in the CSV file\n",
        "        for index, row in enumerate(csv['image_name']):\n",
        "            cleaned_row = row.replace(\" \", \"\")\n",
        "            filename= filename.replace(\" \", \"\")\n",
        "            filename = filename.replace('_', '-')\n",
        "            cleaned_row= cleaned_row.replace('_', '-')\n",
        "            if cleaned_row == filename:\n",
        "                csv.loc[index, 'image_name'] = new_filename\n",
        "                break  # No need to continue searching once updated\n",
        "\n",
        "        i += 1\n",
        "try:\n",
        "        # Save it\n",
        "        csv.to_csv(Updated_csv_directory, index=False, encoding='utf-8')\n",
        "        print(\"CSV file updated successfully.\")\n",
        "except Exception as e:\n",
        "        print(f\"Error writing CSV file: {e}\")\n",
        "print(f\"{i} Images renamed and copied successfully.\")\n",
        "csv\n"
      ]
    },
    {
      "cell_type": "code",
      "execution_count": null,
      "id": "7f9160ae",
      "metadata": {
        "id": "7f9160ae"
      },
      "outputs": [],
      "source": [
        "import os\n",
        "\n",
        "i = 0\n",
        "\n",
        "for filename in os.listdir(Updated_images_directory):\n",
        "    if filename.endswith('.jpg') and filename.startswith('M'):\n",
        "        # Construct the full paths for source and destination\n",
        "        source_path = os.path.join(Updated_images_directory, filename)\n",
        "        # Split the filename into parts based on '-'\n",
        "        filename = filename.replace('_', '-')\n",
        "        filename = filename.replace(' ', '')\n",
        "        parts = filename.split('-')\n",
        "        if (len(parts)==9):\n",
        "            # Remove the last 3 elements\n",
        "            print(parts)\n",
        "            parts = parts[:-3]\n",
        "            print(parts)\n",
        "            # Create the new filename by joining the modified parts\n",
        "            new_filename = '-'.join(parts) + '.jpg'\n",
        "            # Rename the file in the same directory with a unique name if necessary\n",
        "            new_path = os.path.join(Updated_images_directory, new_filename)\n",
        "            count = 0\n",
        "            while os.path.exists(new_path):\n",
        "                count += 1\n",
        "                new_filename = '-'.join(parts) + f'-0{count}.jpg'\n",
        "                new_path = os.path.join(Updated_images_directory, new_filename)\n",
        "            os.rename(source_path, new_path)\n",
        "            for index, row in enumerate(csv['image_name']):\n",
        "               cleaned_row = row.replace(\" \", \"\")\n",
        "               filename= filename.replace(\" \", \"\")\n",
        "               filename = filename.replace('_', '-')\n",
        "               cleaned_row= cleaned_row.replace('_', '-')\n",
        "               if cleaned_row == filename:\n",
        "                csv.loc[index, 'image_name'] = new_filename\n",
        "                break  # No need to continue searching once updated\n",
        "    i += 1\n",
        "try:\n",
        "        # Save the updated DataFrame back to the CSV file\n",
        "        csv.to_csv(Updated_csv_directory, index=False, encoding='utf-8')\n",
        "        print(\"CSV file updated successfully.\")\n",
        "except Exception as e:\n",
        "        print(f\"Error writing CSV file: {e}\")\n",
        "\n",
        "print(f\"{i} Images renamed successfully.\")\n"
      ]
    },
    {
      "cell_type": "code",
      "source": [
        "csv.describe(include=object)"
      ],
      "metadata": {
        "id": "xbC51yydEViX"
      },
      "id": "xbC51yydEViX",
      "execution_count": null,
      "outputs": []
    },
    {
      "cell_type": "code",
      "source": [
        "csv"
      ],
      "metadata": {
        "id": "0gv2RR8bCxl1"
      },
      "id": "0gv2RR8bCxl1",
      "execution_count": null,
      "outputs": []
    },
    {
      "cell_type": "code",
      "source": [
        "import os\n",
        "\n",
        "# Specify your directory\n",
        "Updated_images_directory = \"/content/drive/MyDrive/Updated_datasetAzizaOthmana/Images1/\"\n",
        "\n",
        "# Initialize a dictionary to track filenames and their counts\n",
        "filename_counter = {}\n",
        "\n",
        "# Rename files in the directory\n",
        "for filename in os.listdir(Updated_images_directory):\n",
        "    # Split the filename into parts based on '-'\n",
        "    parts = filename.split('-')\n",
        "\n",
        "    # Check if the filename has the expected format (e.g., Image-0001.jpg)\n",
        "    if len(parts) == 5:\n",
        "        four_digit_number = '-'.join(parts[:4])\n",
        "\n",
        "        # Check if the four-digit number has been encountered before\n",
        "        if four_digit_number not in filename_counter:\n",
        "            # Initialize the counter for this four-digit number\n",
        "            filename_counter[four_digit_number] = 1\n",
        "        else:\n",
        "            # Use the existing counter for this four-digit number\n",
        "            filename_counter[four_digit_number] += 1\n",
        "\n",
        "        # Construct the new filename\n",
        "        new_filename = f'{four_digit_number}-{filename_counter[four_digit_number]:04}.jpg'\n",
        "\n",
        "        # Construct the full paths for source and destination\n",
        "        source_path = os.path.join(Updated_images_directory, filename)\n",
        "        destination_path = os.path.join(Updated_images_directory, new_filename)\n",
        "\n",
        "        # Rename the file\n",
        "        os.rename(source_path, destination_path)\n",
        "        print(f\"Renamed file: {filename} -> {new_filename}\")\n",
        "\n",
        "print(\"File renaming completed.\")\n"
      ],
      "metadata": {
        "id": "3q6wiIimQgTf"
      },
      "id": "3q6wiIimQgTf",
      "execution_count": null,
      "outputs": []
    },
    {
      "cell_type": "code",
      "source": [
        "import os\n",
        "\n",
        "folder_path = \"/content/drive/MyDrive/Updated_datasetAzizaOthmana/Images\"\n",
        "\n",
        "# Get a list of all files in the folder\n",
        "files = os.listdir(folder_path)\n",
        "\n",
        "# Loop through the list of files and delete each one\n",
        "for file in files:\n",
        "    file_path = os.path.join(folder_path, file)\n",
        "    try:\n",
        "        if os.path.isfile(file_path):\n",
        "            os.remove(file_path)\n",
        "            print(f\"Deleted: {file_path}\")\n",
        "        else:\n",
        "            os.remove(file_path)\n",
        "            print(f\"Not a file: {file_path}\")\n",
        "    except Exception as e:\n",
        "        print(f\"Error deleting {file_path}: {e}\")\n",
        "\n",
        "print(\"All files in the folder have been deleted.\")\n"
      ],
      "metadata": {
        "id": "kjaZCHEAQjKG"
      },
      "id": "kjaZCHEAQjKG",
      "execution_count": null,
      "outputs": []
    },
    {
      "cell_type": "code",
      "source": [
        "\n",
        "print(len(os.listdir(\"/content/drive/MyDrive/Updated_datasetAzizaOthmana/Images\")))"
      ],
      "metadata": {
        "id": "fOhojye7RIq8"
      },
      "id": "fOhojye7RIq8",
      "execution_count": null,
      "outputs": []
    },
    {
      "cell_type": "code",
      "source": [],
      "metadata": {
        "id": "l-073Spteh8_"
      },
      "id": "l-073Spteh8_",
      "execution_count": null,
      "outputs": []
    }
  ],
  "metadata": {
    "kernelspec": {
      "display_name": "Python 3 (ipykernel)",
      "language": "python",
      "name": "python3"
    },
    "language_info": {
      "codemirror_mode": {
        "name": "ipython",
        "version": 3
      },
      "file_extension": ".py",
      "mimetype": "text/x-python",
      "name": "python",
      "nbconvert_exporter": "python",
      "pygments_lexer": "ipython3",
      "version": "3.10.9"
    },
    "colab": {
      "provenance": []
    }
  },
  "nbformat": 4,
  "nbformat_minor": 5
}